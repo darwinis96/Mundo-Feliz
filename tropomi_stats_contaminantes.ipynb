{
 "cells": [
  {
   "cell_type": "code",
   "execution_count": 4,
   "id": "58d872c6-917b-479f-8118-d2121d6ade8d",
   "metadata": {},
   "outputs": [
    {
     "data": {
      "text/html": [
       "\n",
       "            <style>\n",
       "                .geemap-dark {\n",
       "                    --jp-widgets-color: white;\n",
       "                    --jp-widgets-label-color: white;\n",
       "                    --jp-ui-font-color1: white;\n",
       "                    --jp-layout-color2: #454545;\n",
       "                    background-color: #383838;\n",
       "                }\n",
       "                    \n",
       "                .geemap-dark .jupyter-button {\n",
       "                    --jp-layout-color3: #383838;\n",
       "                }\n",
       "                \n",
       "                .geemap-colab {\n",
       "                    background-color: var(--colab-primary-surface-color, white);\n",
       "                }\n",
       "                    \n",
       "                .geemap-colab .jupyter-button {\n",
       "                    --jp-layout-color3: var(--colab-primary-surface-color, white);\n",
       "                }\n",
       "            </style>\n",
       "            "
      ],
      "text/plain": [
       "<IPython.core.display.HTML object>"
      ]
     },
     "metadata": {},
     "output_type": "display_data"
    }
   ],
   "source": [
    "import ee\n",
    "import geemap\n",
    "import os\n",
    "# Inicializar GEE\n",
    "ee.Initialize()"
   ]
  },
  {
   "cell_type": "code",
   "execution_count": 5,
   "id": "065bebf3-c805-42c5-8cae-27d9ee9def4c",
   "metadata": {},
   "outputs": [
    {
     "data": {
      "text/html": [
       "\n",
       "            <style>\n",
       "                .geemap-dark {\n",
       "                    --jp-widgets-color: white;\n",
       "                    --jp-widgets-label-color: white;\n",
       "                    --jp-ui-font-color1: white;\n",
       "                    --jp-layout-color2: #454545;\n",
       "                    background-color: #383838;\n",
       "                }\n",
       "                    \n",
       "                .geemap-dark .jupyter-button {\n",
       "                    --jp-layout-color3: #383838;\n",
       "                }\n",
       "                \n",
       "                .geemap-colab {\n",
       "                    background-color: var(--colab-primary-surface-color, white);\n",
       "                }\n",
       "                    \n",
       "                .geemap-colab .jupyter-button {\n",
       "                    --jp-layout-color3: var(--colab-primary-surface-color, white);\n",
       "                }\n",
       "            </style>\n",
       "            "
      ],
      "text/plain": [
       "<IPython.core.display.HTML object>"
      ]
     },
     "metadata": {},
     "output_type": "display_data"
    }
   ],
   "source": [
    "Map = geemap.Map()"
   ]
  },
  {
   "cell_type": "code",
   "execution_count": null,
   "id": "34d8cba8-d277-46b9-8733-f7d8a443a537",
   "metadata": {},
   "outputs": [],
   "source": []
  },
  {
   "cell_type": "raw",
   "id": "7f680ecd-9073-4e51-b992-eefeb430f31f",
   "metadata": {},
   "source": []
  },
  {
   "cell_type": "code",
   "execution_count": null,
   "id": "28523930-da0f-4e2d-8659-f5a94ac9779e",
   "metadata": {},
   "outputs": [],
   "source": []
  },
  {
   "cell_type": "code",
   "execution_count": 98,
   "id": "8d365ccb-9dba-431d-b6cb-4c632562b4ac",
   "metadata": {},
   "outputs": [
    {
     "data": {
      "text/html": [
       "\n",
       "            <style>\n",
       "                .geemap-dark {\n",
       "                    --jp-widgets-color: white;\n",
       "                    --jp-widgets-label-color: white;\n",
       "                    --jp-ui-font-color1: white;\n",
       "                    --jp-layout-color2: #454545;\n",
       "                    background-color: #383838;\n",
       "                }\n",
       "                    \n",
       "                .geemap-dark .jupyter-button {\n",
       "                    --jp-layout-color3: #383838;\n",
       "                }\n",
       "                \n",
       "                .geemap-colab {\n",
       "                    background-color: var(--colab-primary-surface-color, white);\n",
       "                }\n",
       "                    \n",
       "                .geemap-colab .jupyter-button {\n",
       "                    --jp-layout-color3: var(--colab-primary-surface-color, white);\n",
       "                }\n",
       "            </style>\n",
       "            "
      ],
      "text/plain": [
       "<IPython.core.display.HTML object>"
      ]
     },
     "metadata": {},
     "output_type": "display_data"
    },
    {
     "name": "stdout",
     "output_type": "stream",
     "text": [
      "Computing statistics ...\n",
      "Generating URL ...\n",
      "Downloading data from https://earthengine.googleapis.com/v1/projects/earthengine-legacy/tables/b53bb3cc308f89fa799e7b578c3800b4-5817655a2ef78bbff2af27c19f9e1386:getFeatures\n",
      "Please wait ...\n",
      "Data downloaded to C:\\Users\\REPUBLICA GAMING\\Downloads\\2023\\diciembre\\co_stats.csv\n",
      "Computing statistics ...\n",
      "Generating URL ...\n",
      "Downloading data from https://earthengine.googleapis.com/v1/projects/earthengine-legacy/tables/29fcd178769eeccf874613b1cdb12336-64a8cf8e7808d5bbfdded4eb55494d13:getFeatures\n",
      "Please wait ...\n",
      "Data downloaded to C:\\Users\\REPUBLICA GAMING\\Downloads\\2023\\diciembre\\so2_stats.csv\n",
      "Computing statistics ...\n",
      "Generating URL ...\n",
      "Downloading data from https://earthengine.googleapis.com/v1/projects/earthengine-legacy/tables/389160d7e01d7eeece36e689db7ce5e9-fee24464052c6873d9905d8eb77f61b7:getFeatures\n",
      "Please wait ...\n",
      "Data downloaded to C:\\Users\\REPUBLICA GAMING\\Downloads\\2023\\diciembre\\no2_stats.csv\n",
      "Computing statistics ...\n",
      "Generating URL ...\n",
      "Downloading data from https://earthengine.googleapis.com/v1/projects/earthengine-legacy/tables/3c514c28cd274babe609c20b3c5643cf-f184da9f0b993759a665c861d8ffd4e7:getFeatures\n",
      "Please wait ...\n",
      "Data downloaded to C:\\Users\\REPUBLICA GAMING\\Downloads\\2023\\diciembre\\ch4_stats.csv\n"
     ]
    },
    {
     "data": {
      "text/html": [
       "<a download=\"ch4_stats.csv\" href=\"data:text/csv;base64,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\" style=\"color:#0000FF;\" target=\"_blank\">Click here to download:  ch4_stats.csv</a>"
      ],
      "text/plain": [
       "<IPython.core.display.HTML object>"
      ]
     },
     "execution_count": 98,
     "metadata": {},
     "output_type": "execute_result"
    }
   ],
   "source": [
    "import os\n",
    "import ee\n",
    "import geemap\n",
    "\n",
    "# Inicializar GEE\n",
    "ee.Initialize()\n",
    "\n",
    "# Definir variables para la fecha de inicio y fin\n",
    "fecha_inicio = '2021-12-01'\n",
    "fecha_fin = '2021-12-31'\n",
    "\n",
    "# Directorio de salida para los archivos CSV\n",
    "out_dir = os.path.join('C:\\\\', 'Users', 'REPUBLICA GAMING', 'Downloads', '2021', 'diciembre')\n",
    "if not os.path.exists(out_dir):\n",
    "    os.makedirs(out_dir)\n",
    "\n",
    "# Cargar la imagen promedio del satélite TROPOMI CO OFFL para enero de 2021\n",
    "co = ee.ImageCollection('COPERNICUS/S5P/OFFL/L3_CO') \\\n",
    "        .filterDate(fecha_inicio, fecha_fin) \\\n",
    "        .select(\"CO_column_number_density\") \\\n",
    "        .mean()\n",
    "\n",
    "# Cargar la imagen promedio del satélite TROPOMI SO2 OFFL para enero de 2021\n",
    "so2 = ee.ImageCollection('COPERNICUS/S5P/OFFL/L3_SO2') \\\n",
    "         .filterDate(fecha_inicio, fecha_fin) \\\n",
    "         .select(\"SO2_column_number_density\") \\\n",
    "         .mean()\n",
    "\n",
    "# Cargar la imagen promedio del satélite TROPOMI NO2 OFFL para enero de 2021\n",
    "no2 = ee.ImageCollection('COPERNICUS/S5P/OFFL/L3_NO2') \\\n",
    "         .filterDate(fecha_inicio, fecha_fin) \\\n",
    "         .select(\"NO2_column_number_density\") \\\n",
    "         .mean()\n",
    "\n",
    "# Cargar la imagen promedio del satélite TROPOMI CH4 OFFL para enero de 2021\n",
    "ch4 = ee.ImageCollection('COPERNICUS/S5P/OFFL/L3_CH4') \\\n",
    "         .filterDate(fecha_inicio, fecha_fin) \\\n",
    "         .select(\"CH4_column_volume_mixing_ratio_dry_air\") \\\n",
    "         .mean()\n",
    "\n",
    "# Cargar los límites administrativos de las provincias de Ecuador\n",
    "provincias = ee.FeatureCollection(\"FAO/GAUL/2015/level1\").filter(ee.Filter.eq('ADM0_NAME', 'Ecuador'))\n",
    "\n",
    "# Calcular estadísticas zonales para CO en las provincias de Ecuador\n",
    "out_co_stats = os.path.join(out_dir, 'co_stats.csv')\n",
    "geemap.zonal_stats(co, provincias, out_co_stats, stat_type='MEAN', scale=1000)\n",
    "\n",
    "# Calcular estadísticas zonales para SO2 en las provincias de Ecuador\n",
    "out_so2_stats = os.path.join(out_dir, 'so2_stats.csv')\n",
    "geemap.zonal_stats(so2, provincias, out_so2_stats, stat_type='MEAN', scale=1000)\n",
    "\n",
    "# Calcular estadísticas zonales para NO2 en las provincias de Ecuador\n",
    "out_no2_stats = os.path.join(out_dir, 'no2_stats.csv')\n",
    "geemap.zonal_stats(no2, provincias, out_no2_stats, stat_type='MEAN', scale=1000)\n",
    "\n",
    "# Calcular estadísticas zonales para CH4 en las provincias de Ecuador\n",
    "out_ch4_stats = os.path.join(out_dir, 'ch4_stats.csv')\n",
    "geemap.zonal_stats(ch4, provincias, out_ch4_stats, stat_type='MEAN', scale=1000)\n",
    "\n",
    "# Crear enlaces de descarga para los archivos CSV generados\n",
    "geemap.create_download_link(out_co_stats)\n",
    "geemap.create_download_link(out_so2_stats)\n",
    "geemap.create_download_link(out_no2_stats)\n",
    "geemap.create_download_link(out_ch4_stats)\n",
    "\n"
   ]
  },
  {
   "cell_type": "code",
   "execution_count": null,
   "id": "dac8b577-5429-4b5b-b49d-ca1a2c25a43b",
   "metadata": {},
   "outputs": [],
   "source": []
  }
 ],
 "metadata": {
  "kernelspec": {
   "display_name": "Python 3 (ipykernel)",
   "language": "python",
   "name": "python3"
  },
  "language_info": {
   "codemirror_mode": {
    "name": "ipython",
    "version": 3
   },
   "file_extension": ".py",
   "mimetype": "text/x-python",
   "name": "python",
   "nbconvert_exporter": "python",
   "pygments_lexer": "ipython3",
   "version": "3.11.5"
  }
 },
 "nbformat": 4,
 "nbformat_minor": 5
}
