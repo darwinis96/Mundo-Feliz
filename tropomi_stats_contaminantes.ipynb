{
 "cells": [
  {
   "cell_type": "code",
   "execution_count": null,
   "id": "58d872c6-917b-479f-8118-d2121d6ade8d",
   "metadata": {},
   "outputs": [],
   "source": [
    "import ee\n",
    "import geemap\n",
    "import os\n",
    "# Inicializar GEE\n",
    "ee.Initialize()"
   ]
  },
  {
   "cell_type": "code",
   "execution_count": null,
   "id": "065bebf3-c805-42c5-8cae-27d9ee9def4c",
   "metadata": {},
   "outputs": [],
   "source": [
    "Map = geemap.Map()"
   ]
  },
  {
   "cell_type": "code",
   "execution_count": null,
   "id": "8d365ccb-9dba-431d-b6cb-4c632562b4ac",
   "metadata": {},
   "outputs": [],
   "source": [
    "import os\n",
    "import ee\n",
    "import geemap\n",
    "\n",
    "# Inicializar GEE\n",
    "ee.Initialize()\n",
    "\n",
    "# Definir variables para la fecha de inicio y fin\n",
    "fecha_inicio = '2021-12-01'\n",
    "fecha_fin = '2021-12-31'\n",
    "\n",
    "# Directorio de salida para los archivos CSV\n",
    "out_dir = os.path.join('DIRECTORIO DE TRABAJO') #ESCRIBIR LA RUTA DEL DIRECTORIO EN DONDE SE VAYAN A GUARDAR LOS ARCHIVOSSSSS\n",
    "if not os.path.exists(out_dir):\n",
    "    os.makedirs(out_dir)\n",
    "\n",
    "# Cargar la imagen promedio del satélite TROPOMI CO OFFL para enero de 2021\n",
    "co = ee.ImageCollection('COPERNICUS/S5P/OFFL/L3_CO') \\\n",
    "        .filterDate(fecha_inicio, fecha_fin) \\\n",
    "        .select(\"CO_column_number_density\") \\\n",
    "        .mean()\n",
    "\n",
    "# Cargar la imagen promedio del satélite TROPOMI SO2 OFFL para enero de 2021\n",
    "so2 = ee.ImageCollection('COPERNICUS/S5P/OFFL/L3_SO2') \\\n",
    "         .filterDate(fecha_inicio, fecha_fin) \\\n",
    "         .select(\"SO2_column_number_density\") \\\n",
    "         .mean()\n",
    "\n",
    "# Cargar la imagen promedio del satélite TROPOMI NO2 OFFL para enero de 2021\n",
    "no2 = ee.ImageCollection('COPERNICUS/S5P/OFFL/L3_NO2') \\\n",
    "         .filterDate(fecha_inicio, fecha_fin) \\\n",
    "         .select(\"NO2_column_number_density\") \\\n",
    "         .mean()\n",
    "\n",
    "# Cargar la imagen promedio del satélite TROPOMI CH4 OFFL para enero de 2021\n",
    "ch4 = ee.ImageCollection('COPERNICUS/S5P/OFFL/L3_CH4') \\\n",
    "         .filterDate(fecha_inicio, fecha_fin) \\\n",
    "         .select(\"CH4_column_volume_mixing_ratio_dry_air\") \\\n",
    "         .mean()\n",
    "\n",
    "# Cargar los límites administrativos de las provincias de Ecuador\n",
    "provincias = ee.FeatureCollection(\"FAO/GAUL/2015/level1\").filter(ee.Filter.eq('ADM0_NAME', 'Ecuador'))\n",
    "\n",
    "# Calcular estadísticas zonales para CO en las provincias de Ecuador\n",
    "out_co_stats = os.path.join(out_dir, 'co_stats.csv')\n",
    "geemap.zonal_stats(co, provincias, out_co_stats, stat_type='MEAN', scale=1000)\n",
    "\n",
    "# Calcular estadísticas zonales para SO2 en las provincias de Ecuador\n",
    "out_so2_stats = os.path.join(out_dir, 'so2_stats.csv')\n",
    "geemap.zonal_stats(so2, provincias, out_so2_stats, stat_type='MEAN', scale=1000)\n",
    "\n",
    "# Calcular estadísticas zonales para NO2 en las provincias de Ecuador\n",
    "out_no2_stats = os.path.join(out_dir, 'no2_stats.csv')\n",
    "geemap.zonal_stats(no2, provincias, out_no2_stats, stat_type='MEAN', scale=1000)\n",
    "\n",
    "# Calcular estadísticas zonales para CH4 en las provincias de Ecuador\n",
    "out_ch4_stats = os.path.join(out_dir, 'ch4_stats.csv')\n",
    "geemap.zonal_stats(ch4, provincias, out_ch4_stats, stat_type='MEAN', scale=1000)\n",
    "\n",
    "# Crear enlaces de descarga para los archivos CSV generados\n",
    "geemap.create_download_link(out_co_stats)\n",
    "geemap.create_download_link(out_so2_stats)\n",
    "geemap.create_download_link(out_no2_stats)\n",
    "geemap.create_download_link(out_ch4_stats)\n",
    "\n"
   ]
  },
  {
   "cell_type": "code",
   "execution_count": null,
   "id": "dac8b577-5429-4b5b-b49d-ca1a2c25a43b",
   "metadata": {},
   "outputs": [],
   "source": []
  }
 ],
 "metadata": {
  "kernelspec": {
   "display_name": "Python 3 (ipykernel)",
   "language": "python",
   "name": "python3"
  },
  "language_info": {
   "codemirror_mode": {
    "name": "ipython",
    "version": 3
   },
   "file_extension": ".py",
   "mimetype": "text/x-python",
   "name": "python",
   "nbconvert_exporter": "python",
   "pygments_lexer": "ipython3",
   "version": "3.11.5"
  }
 },
 "nbformat": 4,
 "nbformat_minor": 5
}
